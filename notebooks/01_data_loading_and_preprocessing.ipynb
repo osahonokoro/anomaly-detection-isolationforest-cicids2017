{
 "cells": [
  {
   "cell_type": "code",
   "execution_count": 1,
   "id": "c6ce926e-9d71-4d76-9a5a-7a1b6a7efaa3",
   "metadata": {},
   "outputs": [
    {
     "name": "stdout",
     "output_type": "stream",
     "text": [
      "Loading: Friday-WorkingHours-Afternoon-DDos.pcap_ISCX.csv\n",
      "Loading: Friday-WorkingHours-Afternoon-PortScan.pcap_ISCX.csv\n",
      "Loading: Friday-WorkingHours-Morning.pcap_ISCX.csv\n",
      "Loading: Monday-WorkingHours.pcap_ISCX.csv\n",
      "Loading: Thursday-WorkingHours-Afternoon-Infilteration.pcap_ISCX.csv\n",
      "Loading: Thursday-WorkingHours-Morning-WebAttacks.pcap_ISCX.csv\n",
      "Loading: Tuesday-WorkingHours.pcap_ISCX.csv\n",
      "Loading: Wednesday-workingHours.pcap_ISCX.csv\n",
      "✅ Combined dataset shape: (2830743, 79)\n",
      "✅ Cleaned numeric data saved to:\n",
      "C:\\Users\\Otala\\Desktop\\cleaned_numeric_combined.csv\n"
     ]
    }
   ],
   "source": [
    "import os\n",
    "import pandas as pd\n",
    "\n",
    "# New, safe save location\n",
    "safe_output_path = r\"C:\\Users\\Otala\\Desktop\\cleaned_numeric_combined.csv\"\n",
    "\n",
    "# Dataset folder path (unchanged)\n",
    "data_folder = r\"C:\\Users\\Otala\\Desktop\\Osahon Research Work\\anomaly-detection-isolationforest-cicids2017\\data\\MachineLearningCVE\"\n",
    "\n",
    "# Get list of .csv files\n",
    "csv_files = [f for f in os.listdir(data_folder) if f.endswith(\".pcap_ISCX.csv\")]\n",
    "\n",
    "# Load and combine all CSVs\n",
    "combined_df = pd.DataFrame()\n",
    "\n",
    "for file in csv_files:\n",
    "    file_path = os.path.join(data_folder, file)\n",
    "    try:\n",
    "        print(f\"Loading: {file}\")\n",
    "        df = pd.read_csv(file_path, low_memory=False)\n",
    "        combined_df = pd.concat([combined_df, df], ignore_index=True)\n",
    "    except Exception as e:\n",
    "        print(f\"❌ Error loading {file}: {e}\")\n",
    "\n",
    "print(\"✅ Combined dataset shape:\", combined_df.shape)\n",
    "\n",
    "# Drop rows with any missing values\n",
    "combined_df = combined_df.dropna()\n",
    "\n",
    "# Keep only numeric columns\n",
    "numeric_df = combined_df.select_dtypes(include=['int64', 'float64'])\n",
    "\n",
    "# Save to a safe location (Desktop)\n",
    "numeric_df.to_csv(safe_output_path, index=False)\n",
    "print(f\"✅ Cleaned numeric data saved to:\\n{safe_output_path}\")\n"
   ]
  },
  {
   "cell_type": "code",
   "execution_count": null,
   "id": "79527513-b9d8-465c-b719-3997c5b27d26",
   "metadata": {},
   "outputs": [],
   "source": []
  }
 ],
 "metadata": {
  "kernelspec": {
   "display_name": "Python 3 (ipykernel)",
   "language": "python",
   "name": "python3"
  },
  "language_info": {
   "codemirror_mode": {
    "name": "ipython",
    "version": 3
   },
   "file_extension": ".py",
   "mimetype": "text/x-python",
   "name": "python",
   "nbconvert_exporter": "python",
   "pygments_lexer": "ipython3",
   "version": "3.13.2"
  }
 },
 "nbformat": 4,
 "nbformat_minor": 5
}
