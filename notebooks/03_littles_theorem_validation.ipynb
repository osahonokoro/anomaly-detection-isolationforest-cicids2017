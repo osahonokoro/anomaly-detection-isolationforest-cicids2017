{
 "cells": [
  {
   "cell_type": "code",
   "execution_count": 4,
   "id": "20744c06-cfbb-4fcc-bcab-bcb4c3a12c9d",
   "metadata": {},
   "outputs": [],
   "source": [
    "# ✅ Fix Plan: Re-merge the anomaly results with full original data\n",
    "\n",
    "# 🔁 Step 1: Reload the original cleaned dataset (before scaling)\n",
    "import pandas as pd\n",
    "\n",
    "# Load the original full dataset (with all numeric + time fields)\n",
    "df_full = pd.read_csv(r\"C:\\Users\\Otala\\Desktop\\cleaned_numeric_combined.csv\")\n"
   ]
  },
  {
   "cell_type": "code",
   "execution_count": 5,
   "id": "b6578158-976c-4978-b0bd-ba21cb2b8c07",
   "metadata": {},
   "outputs": [
    {
     "name": "stdout",
     "output_type": "stream",
     "text": [
      "Anomalies shape: (56264, 79)\n"
     ]
    }
   ],
   "source": [
    "# 🔁 Step 2: Reload anomaly labels from your scaled model\n",
    "# Reload the previously predicted anomalies\n",
    "anomaly_labels = pd.read_csv(r\"C:\\Users\\Otala\\Desktop\\anomalies_only.csv\")\n",
    "\n",
    "# Check shape\n",
    "print(f\"Anomalies shape: {anomaly_labels.shape}\")\n"
   ]
  },
  {
   "cell_type": "code",
   "execution_count": 6,
   "id": "cf992bf8-752a-42c8-9958-a68dbadc9e4c",
   "metadata": {},
   "outputs": [
    {
     "name": "stdout",
     "output_type": "stream",
     "text": [
      "✅ Refreshed anomalies with Flow Duration: (56264, 79)\n"
     ]
    }
   ],
   "source": [
    "# 🔁 Step 3: Re-run the model to regenerate anomaly column on full data\n",
    "\n",
    "from sklearn.ensemble import IsolationForest\n",
    "from sklearn.preprocessing import StandardScaler\n",
    "import numpy as np\n",
    "\n",
    "# Step 1: Clean again\n",
    "df_full = df_full.replace([np.inf, -np.inf], np.nan)\n",
    "df_full = df_full.dropna()\n",
    "\n",
    "# Step 2: Scale\n",
    "scaler = StandardScaler()\n",
    "scaled_features = scaler.fit_transform(df_full.values)\n",
    "\n",
    "# Step 3: Predict\n",
    "model = IsolationForest(n_estimators=100, contamination=0.02, random_state=42)\n",
    "predictions = model.fit_predict(scaled_features)\n",
    "\n",
    "# Step 4: Attach labels to full data\n",
    "df_full['anomaly'] = predictions\n",
    "df_full['anomaly'] = df_full['anomaly'].map({1: 'Normal', -1: 'Anomaly'})\n",
    "\n",
    "# Step 5: Filter anomalies with full columns\n",
    "anomalies = df_full[df_full['anomaly'] == 'Anomaly']\n",
    "print(f\"✅ Refreshed anomalies with Flow Duration: {anomalies.shape}\")\n"
   ]
  },
  {
   "cell_type": "code",
   "execution_count": 7,
   "id": "cb8f8cc6-3967-4652-acf6-80253d46b326",
   "metadata": {},
   "outputs": [],
   "source": [
    "# 🔁 Step 4: Save Updated Anomaly Dataset with Flow Duration\n",
    "\n",
    "anomalies.to_csv(r\"C:\\Users\\Otala\\Desktop\\anomalies_with_duration.csv\", index=False)\n"
   ]
  },
  {
   "cell_type": "code",
   "execution_count": 11,
   "id": "1eda549c-33fd-4db3-a7d9-31213551e407",
   "metadata": {},
   "outputs": [
    {
     "name": "stdout",
     "output_type": "stream",
     "text": [
      "✅ Loaded anomalies with shape: (56264, 79)\n"
     ]
    },
    {
     "data": {
      "text/html": [
       "<div>\n",
       "<style scoped>\n",
       "    .dataframe tbody tr th:only-of-type {\n",
       "        vertical-align: middle;\n",
       "    }\n",
       "\n",
       "    .dataframe tbody tr th {\n",
       "        vertical-align: top;\n",
       "    }\n",
       "\n",
       "    .dataframe thead th {\n",
       "        text-align: right;\n",
       "    }\n",
       "</style>\n",
       "<table border=\"1\" class=\"dataframe\">\n",
       "  <thead>\n",
       "    <tr style=\"text-align: right;\">\n",
       "      <th></th>\n",
       "      <th>Destination Port</th>\n",
       "      <th>Flow Duration</th>\n",
       "      <th>Total Fwd Packets</th>\n",
       "      <th>Total Backward Packets</th>\n",
       "      <th>Total Length of Fwd Packets</th>\n",
       "      <th>Total Length of Bwd Packets</th>\n",
       "      <th>Fwd Packet Length Max</th>\n",
       "      <th>Fwd Packet Length Min</th>\n",
       "      <th>Fwd Packet Length Mean</th>\n",
       "      <th>Fwd Packet Length Std</th>\n",
       "      <th>...</th>\n",
       "      <th>min_seg_size_forward</th>\n",
       "      <th>Active Mean</th>\n",
       "      <th>Active Std</th>\n",
       "      <th>Active Max</th>\n",
       "      <th>Active Min</th>\n",
       "      <th>Idle Mean</th>\n",
       "      <th>Idle Std</th>\n",
       "      <th>Idle Max</th>\n",
       "      <th>Idle Min</th>\n",
       "      <th>anomaly</th>\n",
       "    </tr>\n",
       "  </thead>\n",
       "  <tbody>\n",
       "    <tr>\n",
       "      <th>0</th>\n",
       "      <td>443</td>\n",
       "      <td>101027175</td>\n",
       "      <td>14</td>\n",
       "      <td>12</td>\n",
       "      <td>1029</td>\n",
       "      <td>991</td>\n",
       "      <td>460</td>\n",
       "      <td>0</td>\n",
       "      <td>73.500000</td>\n",
       "      <td>150.040379</td>\n",
       "      <td>...</td>\n",
       "      <td>32</td>\n",
       "      <td>1048172.0</td>\n",
       "      <td>1296391.188</td>\n",
       "      <td>1964859</td>\n",
       "      <td>131485</td>\n",
       "      <td>49400000.0</td>\n",
       "      <td>12900000.0</td>\n",
       "      <td>58500000</td>\n",
       "      <td>40300000</td>\n",
       "      <td>Anomaly</td>\n",
       "    </tr>\n",
       "    <tr>\n",
       "      <th>1</th>\n",
       "      <td>389</td>\n",
       "      <td>115791754</td>\n",
       "      <td>22</td>\n",
       "      <td>13</td>\n",
       "      <td>2986</td>\n",
       "      <td>6356</td>\n",
       "      <td>1305</td>\n",
       "      <td>0</td>\n",
       "      <td>135.727273</td>\n",
       "      <td>379.293351</td>\n",
       "      <td>...</td>\n",
       "      <td>32</td>\n",
       "      <td>20311.0</td>\n",
       "      <td>0.000</td>\n",
       "      <td>20311</td>\n",
       "      <td>20311</td>\n",
       "      <td>116000000.0</td>\n",
       "      <td>0.0</td>\n",
       "      <td>116000000</td>\n",
       "      <td>116000000</td>\n",
       "      <td>Anomaly</td>\n",
       "    </tr>\n",
       "    <tr>\n",
       "      <th>2</th>\n",
       "      <td>3268</td>\n",
       "      <td>115812212</td>\n",
       "      <td>22</td>\n",
       "      <td>13</td>\n",
       "      <td>2986</td>\n",
       "      <td>6356</td>\n",
       "      <td>1305</td>\n",
       "      <td>0</td>\n",
       "      <td>135.727273</td>\n",
       "      <td>379.293351</td>\n",
       "      <td>...</td>\n",
       "      <td>32</td>\n",
       "      <td>19638.0</td>\n",
       "      <td>0.000</td>\n",
       "      <td>19638</td>\n",
       "      <td>19638</td>\n",
       "      <td>116000000.0</td>\n",
       "      <td>0.0</td>\n",
       "      <td>116000000</td>\n",
       "      <td>116000000</td>\n",
       "      <td>Anomaly</td>\n",
       "    </tr>\n",
       "    <tr>\n",
       "      <th>3</th>\n",
       "      <td>53</td>\n",
       "      <td>98492066</td>\n",
       "      <td>3</td>\n",
       "      <td>3</td>\n",
       "      <td>147</td>\n",
       "      <td>393</td>\n",
       "      <td>56</td>\n",
       "      <td>40</td>\n",
       "      <td>49.000000</td>\n",
       "      <td>8.185353</td>\n",
       "      <td>...</td>\n",
       "      <td>20</td>\n",
       "      <td>1101027.0</td>\n",
       "      <td>0.000</td>\n",
       "      <td>1101027</td>\n",
       "      <td>1101027</td>\n",
       "      <td>97300000.0</td>\n",
       "      <td>0.0</td>\n",
       "      <td>97300000</td>\n",
       "      <td>97300000</td>\n",
       "      <td>Anomaly</td>\n",
       "    </tr>\n",
       "    <tr>\n",
       "      <th>4</th>\n",
       "      <td>53</td>\n",
       "      <td>93196139</td>\n",
       "      <td>2</td>\n",
       "      <td>2</td>\n",
       "      <td>104</td>\n",
       "      <td>219</td>\n",
       "      <td>56</td>\n",
       "      <td>48</td>\n",
       "      <td>52.000000</td>\n",
       "      <td>5.656854</td>\n",
       "      <td>...</td>\n",
       "      <td>20</td>\n",
       "      <td>71252.0</td>\n",
       "      <td>0.000</td>\n",
       "      <td>71252</td>\n",
       "      <td>71252</td>\n",
       "      <td>93100000.0</td>\n",
       "      <td>0.0</td>\n",
       "      <td>93100000</td>\n",
       "      <td>93100000</td>\n",
       "      <td>Anomaly</td>\n",
       "    </tr>\n",
       "  </tbody>\n",
       "</table>\n",
       "<p>5 rows × 79 columns</p>\n",
       "</div>"
      ],
      "text/plain": [
       "   Destination Port  Flow Duration  Total Fwd Packets  Total Backward Packets  \\\n",
       "0               443      101027175                 14                      12   \n",
       "1               389      115791754                 22                      13   \n",
       "2              3268      115812212                 22                      13   \n",
       "3                53       98492066                  3                       3   \n",
       "4                53       93196139                  2                       2   \n",
       "\n",
       "   Total Length of Fwd Packets  Total Length of Bwd Packets  \\\n",
       "0                         1029                          991   \n",
       "1                         2986                         6356   \n",
       "2                         2986                         6356   \n",
       "3                          147                          393   \n",
       "4                          104                          219   \n",
       "\n",
       "   Fwd Packet Length Max  Fwd Packet Length Min  Fwd Packet Length Mean  \\\n",
       "0                    460                      0               73.500000   \n",
       "1                   1305                      0              135.727273   \n",
       "2                   1305                      0              135.727273   \n",
       "3                     56                     40               49.000000   \n",
       "4                     56                     48               52.000000   \n",
       "\n",
       "   Fwd Packet Length Std  ...  min_seg_size_forward  Active Mean   Active Std  \\\n",
       "0             150.040379  ...                    32    1048172.0  1296391.188   \n",
       "1             379.293351  ...                    32      20311.0        0.000   \n",
       "2             379.293351  ...                    32      19638.0        0.000   \n",
       "3               8.185353  ...                    20    1101027.0        0.000   \n",
       "4               5.656854  ...                    20      71252.0        0.000   \n",
       "\n",
       "   Active Max  Active Min    Idle Mean    Idle Std   Idle Max   Idle Min  \\\n",
       "0     1964859      131485   49400000.0  12900000.0   58500000   40300000   \n",
       "1       20311       20311  116000000.0         0.0  116000000  116000000   \n",
       "2       19638       19638  116000000.0         0.0  116000000  116000000   \n",
       "3     1101027     1101027   97300000.0         0.0   97300000   97300000   \n",
       "4       71252       71252   93100000.0         0.0   93100000   93100000   \n",
       "\n",
       "   anomaly  \n",
       "0  Anomaly  \n",
       "1  Anomaly  \n",
       "2  Anomaly  \n",
       "3  Anomaly  \n",
       "4  Anomaly  \n",
       "\n",
       "[5 rows x 79 columns]"
      ]
     },
     "execution_count": 11,
     "metadata": {},
     "output_type": "execute_result"
    }
   ],
   "source": [
    "# 📘 Cell 1: Imports + Load Anomalies\n",
    "import pandas as pd\n",
    "import matplotlib.pyplot as plt\n",
    "\n",
    "# Load the anomalies data (updated version with Flow Duration)\n",
    "file_path = r\"C:\\Users\\Otala\\Desktop\\anomalies_with_duration.csv\"\n",
    "df = pd.read_csv(file_path)\n",
    "\n",
    "# ✅ Clean all column names (removes leading/trailing whitespace)\n",
    "df.columns = df.columns.str.strip()\n",
    "\n",
    "print(f\"✅ Loaded anomalies with shape: {df.shape}\")\n",
    "df.head()\n"
   ]
  },
  {
   "cell_type": "code",
   "execution_count": 12,
   "id": "b01a3bf3-7bd6-47a6-a26d-1522ecf1b793",
   "metadata": {},
   "outputs": [
    {
     "name": "stdout",
     "output_type": "stream",
     "text": [
      "📥 Estimated arrival rate λ ≈ 10.9545 requests/sec\n",
      "['Destination Port', 'Flow Duration', 'Total Fwd Packets', 'Total Backward Packets', 'Total Length of Fwd Packets', 'Total Length of Bwd Packets', 'Fwd Packet Length Max', 'Fwd Packet Length Min', 'Fwd Packet Length Mean', 'Fwd Packet Length Std', 'Bwd Packet Length Max', 'Bwd Packet Length Min', 'Bwd Packet Length Mean', 'Bwd Packet Length Std', 'Flow Bytes/s', 'Flow Packets/s', 'Flow IAT Mean', 'Flow IAT Std', 'Flow IAT Max', 'Flow IAT Min', 'Fwd IAT Total', 'Fwd IAT Mean', 'Fwd IAT Std', 'Fwd IAT Max', 'Fwd IAT Min', 'Bwd IAT Total', 'Bwd IAT Mean', 'Bwd IAT Std', 'Bwd IAT Max', 'Bwd IAT Min', 'Fwd PSH Flags', 'Bwd PSH Flags', 'Fwd URG Flags', 'Bwd URG Flags', 'Fwd Header Length', 'Bwd Header Length', 'Fwd Packets/s', 'Bwd Packets/s', 'Min Packet Length', 'Max Packet Length', 'Packet Length Mean', 'Packet Length Std', 'Packet Length Variance', 'FIN Flag Count', 'SYN Flag Count', 'RST Flag Count', 'PSH Flag Count', 'ACK Flag Count', 'URG Flag Count', 'CWE Flag Count', 'ECE Flag Count', 'Down/Up Ratio', 'Average Packet Size', 'Avg Fwd Segment Size', 'Avg Bwd Segment Size', 'Fwd Header Length.1', 'Fwd Avg Bytes/Bulk', 'Fwd Avg Packets/Bulk', 'Fwd Avg Bulk Rate', 'Bwd Avg Bytes/Bulk', 'Bwd Avg Packets/Bulk', 'Bwd Avg Bulk Rate', 'Subflow Fwd Packets', 'Subflow Fwd Bytes', 'Subflow Bwd Packets', 'Subflow Bwd Bytes', 'Init_Win_bytes_forward', 'Init_Win_bytes_backward', 'act_data_pkt_fwd', 'min_seg_size_forward', 'Active Mean', 'Active Std', 'Active Max', 'Active Min', 'Idle Mean', 'Idle Std', 'Idle Max', 'Idle Min', 'anomaly', 'Flow Duration (s)']\n"
     ]
    }
   ],
   "source": [
    "# 📘 Cell 2: Estimate λ (Arrival Rate)\n",
    "# Convert Flow Duration to seconds (if it exists and is in nanoseconds)\n",
    "if 'Flow Duration' in df.columns:\n",
    "    df['Flow Duration (s)'] = df['Flow Duration'] / 1e9\n",
    "    total_time = df['Flow Duration (s)'].sum()\n",
    "    arrival_rate = len(df) / total_time  # λ = total arrivals / total time\n",
    "    print(f\"📥 Estimated arrival rate λ ≈ {arrival_rate:.4f} requests/sec\")\n",
    "else:\n",
    "    print(\"❌ 'Flow Duration' not found. Using fallback: 1 row = 1 second.\")\n",
    "    arrival_rate = len(df) / len(df)  # fallback = 1/sec\n",
    "\n",
    "print(df.columns.tolist())\n",
    "\n"
   ]
  },
  {
   "cell_type": "code",
   "execution_count": 13,
   "id": "259cebca-bb95-44f4-8ff9-eb9422dc91e6",
   "metadata": {},
   "outputs": [
    {
     "name": "stdout",
     "output_type": "stream",
     "text": [
      "⏱️ Average time in system W ≈ 0.0913 seconds\n"
     ]
    }
   ],
   "source": [
    "# 📘 Cell 3: Estimate W (Average Time in System)\n",
    "\n",
    "# 📘 Cell 3: Estimate average time in system (W)\n",
    "avg_time = df['Flow Duration (s)'].mean()\n",
    "print(f\"⏱️ Average time in system W ≈ {avg_time:.4f} seconds\")\n"
   ]
  },
  {
   "cell_type": "code",
   "execution_count": 14,
   "id": "c22df021-97ed-4d84-bc82-e9ecaede3406",
   "metadata": {},
   "outputs": [
    {
     "name": "stdout",
     "output_type": "stream",
     "text": [
      "📦 Little's Theorem Result: L ≈ 1.0000 concurrent anomaly flows (on average)\n"
     ]
    }
   ],
   "source": [
    "# 📘 Cell 4: Apply Little’s Theorem (L = λ * W)\n",
    "\n",
    "L = arrival_rate * avg_time\n",
    "print(f\"📦 Little's Theorem Result: L ≈ {L:.4f} concurrent anomaly flows (on average)\")\n"
   ]
  },
  {
   "cell_type": "code",
   "execution_count": 15,
   "id": "55a62d98-51ae-4215-860d-e619b8567a07",
   "metadata": {},
   "outputs": [
    {
     "name": "stderr",
     "output_type": "stream",
     "text": [
      "C:\\Users\\Otala\\AppData\\Local\\Programs\\Python\\Python313\\Lib\\site-packages\\IPython\\core\\pylabtools.py:170: UserWarning: Glyph 9203 (\\N{HOURGLASS WITH FLOWING SAND}) missing from font(s) DejaVu Sans.\n",
      "  fig.canvas.print_figure(bytes_io, **kw)\n"
     ]
    },
    {
     "data": {
      "image/png": "[encoded data removed]",
      "text/plain": [
       "<Figure size 800x500 with 1 Axes>"
      ]
     },
     "metadata": {},
     "output_type": "display_data"
    }
   ],
   "source": [
    "# 📘 Cell 5: Visualize Flow Durations\n",
    "\n",
    "import matplotlib.pyplot as plt\n",
    "\n",
    "plt.figure(figsize=(8, 5))\n",
    "plt.hist(df['Flow Duration (s)'], bins=50, color='purple', edgecolor='black')\n",
    "plt.title(\"⏳ Distribution of Anomaly Flow Durations\")\n",
    "plt.xlabel(\"Flow Duration (seconds)\")\n",
    "plt.ylabel(\"Count\")\n",
    "plt.grid(True)\n",
    "plt.show()\n"
   ]
  },
  {
   "cell_type": "code",
   "execution_count": null,
   "id": "899dfa71-3606-4e31-86df-eec5979796d2",
   "metadata": {},
   "outputs": [],
   "source": []
  }
 ],
 "metadata": {
  "kernelspec": {
   "display_name": "Python 3 (ipykernel)",
   "language": "python",
   "name": "python3"
  },
  "language_info": {
   "codemirror_mode": {
    "name": "ipython",
    "version": 3
   },
   "file_extension": ".py",
   "mimetype": "text/x-python",
   "name": "python",
   "nbconvert_exporter": "python",
   "pygments_lexer": "ipython3",
   "version": "3.13.2"
  }
 },
 "nbformat": 4,
 "nbformat_minor": 5
}
