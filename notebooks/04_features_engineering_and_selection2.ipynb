{
 "cells": [
  {
   "cell_type": "code",
   "execution_count": null,
   "id": "f8b673ca-f40e-4972-a62c-63130888673b",
   "metadata": {},
   "outputs": [
    {
     "name": "stdout",
     "output_type": "stream",
     "text": [
      "✅ Loaded dataset. Shape: (2827876, 78)\n",
      "Missing values: 0\n",
      "\n",
      "✅ 'anomaly' column created:\n",
      "anomaly\n",
      "Normal     2771318\n",
      "Anomaly      56558\n",
      "Name: count, dtype: int64\n"
     ]
    }
   ],
   "source": [
    "# 🔹 Step 1: Import Libraries\n",
    "import pandas as pd\n",
    "import numpy as np\n",
    "import matplotlib.pyplot as plt\n",
    "import seaborn as sns\n",
    "from sklearn.preprocessing import StandardScaler\n",
    "from sklearn.ensemble import IsolationForest, RandomForestClassifier\n",
    "from sklearn.feature_selection import RFE\n",
    "\n",
    "# 🔹 Step 2: Load and Prepare Dataset\n",
    "df = pd.read_csv(r\"C:\\Users\\Otala\\Desktop\\cleaned_numeric_combined.csv\")\n",
    "df.columns = df.columns.str.strip()  # Clean column names\n",
    "\n",
    "# Handle infinite values and missing data\n",
    "df.replace([np.inf, -np.inf], np.nan, inplace=True)\n",
    "df.dropna(inplace=True)\n",
    "\n",
    "print(f\"✅ Loaded dataset. Shape: {df.shape}\")\n",
    "print(f\"Missing values: {df.isnull().sum().sum()}\")\n",
    "\n",
    "# 🔹 Step 3: Feature Engineering (Optional Enhancements)\n",
    "if 'Flow Duration' in df.columns:\n",
    "    df['flow_duration_rolling_mean'] = df['Flow Duration'].rolling(window=10, min_periods=1).mean()\n",
    "\n",
    "if 'Total Fwd Packets' in df.columns and 'Total Backward Packets' in df.columns:\n",
    "    df['fwd_bwd_ratio'] = df['Total Fwd Packets'] / (df['Total Backward Packets'] + 1e-6)\n",
    "\n",
    "df.fillna(0, inplace=True)  # Fill any new NaNs after rolling\n",
    "\n",
    "# 🔹 Step 4: Regenerate Anomaly Column with Isolation Forest\n",
    "features = df.drop(columns=['anomaly'], errors='ignore')  # Drop old anomaly if exists\n",
    "scaler = StandardScaler()\n",
    "scaled_features = scaler.fit_transform(features)\n",
    "\n",
    "model = IsolationForest(n_estimators=100, contamination=0.02, random_state=42)\n",
    "df['anomaly'] = model.fit_predict(scaled_features)\n",
    "df['anomaly'] = df['anomaly'].map({1: 'Normal', -1: 'Anomaly'})\n",
    "\n",
    "print(\"\\n✅ 'anomaly' column created:\")\n",
    "print(df['anomaly'].value_counts())\n",
    "\n",
    "# 🔹 Step 5: Feature Selection with Random Forest + RFE\n",
    "X = df.drop(columns=['anomaly'])\n",
    "y = df['anomaly'].map({'Normal': 0, 'Anomaly': 1})\n",
    "\n",
    "model_rf = RandomForestClassifier(n_estimators=100, random_state=42)\n",
    "selector = RFE(model_rf, n_features_to_select=10)\n",
    "selector = selector.fit(X, y)\n",
    "\n",
    "print(\"\\n🎯 Top 10 Selected Features:\")\n",
    "print(X.columns[selector.support_])\n",
    "\n",
    "# 🔹 Optional: Plot Correlation Heatmap\n",
    "plt.figure(figsize=(16, 10))\n",
    "corr_matrix = df.corr()\n",
    "sns.heatmap(corr_matrix, cmap=\"coolwarm\", vmax=1.0, vmin=-1.0)\n",
    "plt.title(\"🔍 Feature Correlation Matrix\")\n",
    "plt.tight_layout()\n",
    "plt.show()\n"
   ]
  },
  {
   "cell_type": "code",
   "execution_count": null,
   "id": "459ebef9-69be-42a9-bb95-acb630377ce2",
   "metadata": {},
   "outputs": [],
   "source": []
  },
  {
   "cell_type": "code",
   "execution_count": null,
   "id": "f481837e-c42f-4a06-b625-527814e178b1",
   "metadata": {},
   "outputs": [],
   "source": []
  }
 ],
 "metadata": {
  "kernelspec": {
   "display_name": "Python 3 (ipykernel)",
   "language": "python",
   "name": "python3"
  },
  "language_info": {
   "codemirror_mode": {
    "name": "ipython",
    "version": 3
   },
   "file_extension": ".py",
   "mimetype": "text/x-python",
   "name": "python",
   "nbconvert_exporter": "python",
   "pygments_lexer": "ipython3",
   "version": "3.13.2"
  }
 },
 "nbformat": 4,
 "nbformat_minor": 5
}
